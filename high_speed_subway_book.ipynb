{
 "cells": [
  {
   "cell_type": "code",
   "execution_count": 1,
   "metadata": {},
   "outputs": [],
   "source": [
    "# 操作 browser 的 API\n",
    "from selenium.webdriver.chrome.service import Service\n",
    "from selenium import webdriver\n",
    "\n",
    "# 處理逾時例外的工具\n",
    "from selenium.common.exceptions import TimeoutException\n",
    "\n",
    "# 面對動態網頁，等待某個元素出現的工具，通常與 exptected_conditions 搭配\n",
    "from selenium.webdriver.support.ui import WebDriverWait\n",
    "\n",
    "# 搭配 WebDriverWait 使用，對元素狀態的一種期待條件，若條件發生，則等待結束，往下一行執行\n",
    "from selenium.webdriver.support import expected_conditions as EC\n",
    "\n",
    "# 期待元素出現要透過什麼方式指定，通常與 EC、WebDriverWait 一起使用\n",
    "from selenium.webdriver.common.by import By\n",
    "\n",
    "from fake_useragent import UserAgent\n",
    "\n",
    "# 強制等待 (執行期間休息一下)\n",
    "from time import sleep\n",
    "from pprint import pprint"
   ]
  },
  {
   "cell_type": "code",
   "execution_count": 8,
   "metadata": {},
   "outputs": [
    {
     "data": {
      "text/plain": [
       "{'identifier': '2'}"
      ]
     },
     "execution_count": 8,
     "metadata": {},
     "output_type": "execute_result"
    }
   ],
   "source": [
    "url = 'https://irs.thsrc.com.tw/IMINT/?utm_source=thsrc&utm_medium=btnlink&utm_term=booking'\n",
    "my_service = webdriver.ChromeService(executable_path=\"D:/專案/grab/chromedriver.exe\")\n",
    "my_options = webdriver.ChromeOptions()\n",
    "# my_options.add_argument(\"--headless\")                #不開啟實體瀏覽器背景執行\n",
    "my_options.add_argument(\"--start-maximized\")         #最大化視窗\n",
    "# my_options.add_argument(\"--incognito\")               #開啟無痕模式\n",
    "my_options.add_argument(\"--disable-popup-blocking\") #禁用彈出攔截\n",
    "my_options.add_argument(\"--disable-notifications\")  #取消 chrome 推播通知\n",
    "my_options.add_argument(\"--lang=zh-TW\")  #設定為正體中文\n",
    "ua = UserAgent()\n",
    "my_options.add_argument('--user-agent=%s' % ua.random)\n",
    "driver = webdriver.Chrome(\n",
    "    options = my_options,\n",
    "    service = my_service,\n",
    ")\n",
    "driver.execute_cdp_cmd(\"Page.addScriptToEvaluateOnNewDocument\", {\n",
    "  \"source\": \"\"\"\n",
    "    Object.defineProperty(navigator, 'webdriver', {\n",
    "      get: () => undefined\n",
    "    })\n",
    "  \"\"\"\n",
    "})"
   ]
  },
  {
   "cell_type": "code",
   "execution_count": 9,
   "metadata": {},
   "outputs": [],
   "source": [
    "driver.get(url=url)\n",
    "btn = driver.find_element(By.CSS_SELECTOR , '#cookieAccpetBtn')\n",
    "btn.click()"
   ]
  },
  {
   "cell_type": "code",
   "execution_count": 18,
   "metadata": {},
   "outputs": [
    {
     "data": {
      "text/plain": [
       "['南港',\n",
       " '台北',\n",
       " '2024/02/10',\n",
       " '08:30',\n",
       " '1',\n",
       " '0',\n",
       " '0',\n",
       " '0',\n",
       " '0',\n",
       " 'A123456789',\n",
       " '0912345678',\n",
       " 'mm123456789@gmail.com']"
      ]
     },
     "execution_count": 18,
     "metadata": {},
     "output_type": "execute_result"
    }
   ],
   "source": [
    "# 打開user_info.txt\n",
    "info = []\n",
    "with open('./book_user_info.txt' , 'r') as file:\n",
    "    content = file.readlines()\n",
    "    for text in content:\n",
    "        if text[0] == '#':\n",
    "            continue\n",
    "        info.append(text.split(\"-\")[1].strip())\n",
    "station = { \"1\":\"南港\" , \"2\":\"台北\" , \"3\":\"板橋\" , \"4\":\"桃園\" , \"5\":\"新竹\" , \"6\":\"苗栗\" , \"7\":\"台中\"\n",
    "            , \"8\":\"彰化\", \"9\":\"雲林\" , \"10\":\"嘉義\" , \"11\":\"台南\" , \"12\":\"左營\"}\n",
    "for i in range(2):\n",
    "    try:\n",
    "        info[i] = station[info[i]]\n",
    "    except:\n",
    "        pass\n",
    "info"
   ]
  },
  {
   "cell_type": "code",
   "execution_count": 19,
   "metadata": {},
   "outputs": [],
   "source": [
    "# 起點、終點\n",
    "\n",
    "start_station = driver.find_elements(By.CSS_SELECTOR , 'div.form-group>select.uk-select')[0]\n",
    "end_station = driver.find_elements(By.CSS_SELECTOR , 'div.form-group>select.uk-select')[1]\n",
    "# start_station.find_elements(By.CSS_SELECTOR , 'option')[1].text\n",
    "# start = '台北'\n",
    "# end = '板橋'\n",
    "for station in start_station.find_elements(By.CSS_SELECTOR , 'option'):\n",
    "    if station.text == info[0]:\n",
    "        station.click()\n",
    "\n",
    "for station in end_station.find_elements(By.CSS_SELECTOR , 'option'):\n",
    "    if station.text == info[1]:\n",
    "        station.click()\n"
   ]
  },
  {
   "cell_type": "code",
   "execution_count": 20,
   "metadata": {},
   "outputs": [],
   "source": [
    "# 出發日期\n",
    "datetime = info[2].split('/')\n",
    "month_dict = {'01':'一月' , '02':'二月' , '03':'三月' , '04':'四月' ,\n",
    "              '05':'五月' , '06':'六月' , '07':'七月' , '08':'八月' ,\n",
    "              '09':'九月' , '10':'十月' , '11':'十一月' , '12':'十二月' }\n",
    "datetime_trs = month_dict[datetime[1]] + \" \" + datetime[2] + \", \" + datetime[0]\n",
    "dateform = driver.find_elements(By.CSS_SELECTOR , 'div.form-group')[2]\n",
    "dateform.click()\n",
    "datecheck = driver.find_elements(By.CSS_SELECTOR , 'span.flatpickr-day[tabindex]')\n",
    "# datecheck[0].get_attribute('aria-label')\n",
    "try:\n",
    "    for check in datecheck:\n",
    "        if datetime_trs == check.get_attribute('aria-label'):\n",
    "            check.click()\n",
    "except:\n",
    "    pass"
   ]
  },
  {
   "cell_type": "code",
   "execution_count": 21,
   "metadata": {},
   "outputs": [],
   "source": [
    "import datetime"
   ]
  },
  {
   "cell_type": "code",
   "execution_count": 18,
   "metadata": {},
   "outputs": [
    {
     "data": {
      "text/plain": [
       "datetime.datetime(2024, 1, 22, 22, 58, 25, 281550)"
      ]
     },
     "execution_count": 18,
     "metadata": {},
     "output_type": "execute_result"
    }
   ],
   "source": [
    "datetime.datetime.now()"
   ]
  },
  {
   "cell_type": "code",
   "execution_count": 22,
   "metadata": {},
   "outputs": [],
   "source": [
    "# 出發時間\n",
    "# time_for_start = '16:00'\n",
    "alltime = driver.find_elements(By.CSS_SELECTOR , 'select.uk-select.out-time>option')\n",
    "for time_select in alltime:\n",
    "    if info[3] == time_select.text:\n",
    "        time_select.click()\n",
    "        "
   ]
  },
  {
   "cell_type": "code",
   "execution_count": 23,
   "metadata": {},
   "outputs": [],
   "source": [
    "# 票數選擇\n",
    "# regular = '2'\n",
    "regularslc = driver.find_elements(By.CSS_SELECTOR , 'select.uk-select')[7]\n",
    "\n",
    "# child = '1'\n",
    "childslc = driver.find_elements(By.CSS_SELECTOR , 'select.uk-select')[8]\n",
    "\n",
    "# disable = '1'\n",
    "disableslc = driver.find_elements(By.CSS_SELECTOR , 'select.uk-select')[9]\n",
    "\n",
    "# senior = '1'\n",
    "seniorslc = driver.find_elements(By.CSS_SELECTOR , 'select.uk-select')[10]\n",
    "\n",
    "# student = '1'\n",
    "studentslc = driver.find_elements(By.CSS_SELECTOR , 'select.uk-select')[11]\n",
    "\n",
    "for slc in regularslc.find_elements(By.CSS_SELECTOR , 'option'):\n",
    "    if info[4] == slc.text:\n",
    "        slc.click()\n",
    "\n",
    "for slc in childslc.find_elements(By.CSS_SELECTOR , 'option'):\n",
    "    if info[5] == slc.text:\n",
    "        slc.click()\n",
    "\n",
    "for slc in disableslc.find_elements(By.CSS_SELECTOR , 'option'):\n",
    "    if info[6] == slc.text:\n",
    "        slc.click()\n",
    "\n",
    "for slc in seniorslc.find_elements(By.CSS_SELECTOR , 'option'):\n",
    "    if info[7] == slc.text:\n",
    "        slc.click()\n",
    "\n",
    "for slc in studentslc.find_elements(By.CSS_SELECTOR , 'option'):\n",
    "    if info[8] == slc.text:\n",
    "        slc.click()\n",
    "\n"
   ]
  },
  {
   "cell_type": "code",
   "execution_count": 69,
   "metadata": {},
   "outputs": [
    {
     "ename": "NoSuchElementException",
     "evalue": "Message: no such element: Unable to locate element: {\"method\":\"css selector\",\"selector\":\"li.feedbackPanelERROR\"}\n  (Session info: chrome=120.0.6099.225); For documentation on this error, please visit: https://www.selenium.dev/documentation/webdriver/troubleshooting/errors#no-such-element-exception\nStacktrace:\n\tGetHandleVerifier [0x00007FF652064D02+56194]\n\t(No symbol) [0x00007FF651FD04B2]\n\t(No symbol) [0x00007FF651E776AA]\n\t(No symbol) [0x00007FF651EC16D0]\n\t(No symbol) [0x00007FF651EC17EC]\n\t(No symbol) [0x00007FF651F04D77]\n\t(No symbol) [0x00007FF651EE5EBF]\n\t(No symbol) [0x00007FF651F02786]\n\t(No symbol) [0x00007FF651EE5C23]\n\t(No symbol) [0x00007FF651EB4A45]\n\t(No symbol) [0x00007FF651EB5AD4]\n\tGetHandleVerifier [0x00007FF6523DD5BB+3695675]\n\tGetHandleVerifier [0x00007FF652436197+4059159]\n\tGetHandleVerifier [0x00007FF65242DF63+4025827]\n\tGetHandleVerifier [0x00007FF6520FF029+687785]\n\t(No symbol) [0x00007FF651FDB508]\n\t(No symbol) [0x00007FF651FD7564]\n\t(No symbol) [0x00007FF651FD76E9]\n\t(No symbol) [0x00007FF651FC8094]\n\tBaseThreadInitThunk [0x00007FFEAE367344+20]\n\tRtlUserThreadStart [0x00007FFEAFFA26B1+33]\n",
     "output_type": "error",
     "traceback": [
      "\u001b[1;31m---------------------------------------------------------------------------\u001b[0m",
      "\u001b[1;31mNoSuchElementException\u001b[0m                    Traceback (most recent call last)",
      "Cell \u001b[1;32mIn[69], line 1\u001b[0m\n\u001b[1;32m----> 1\u001b[0m testerror \u001b[38;5;241m=\u001b[39m driver\u001b[38;5;241m.\u001b[39mfind_element(By\u001b[38;5;241m.\u001b[39mCSS_SELECTOR,\u001b[38;5;124m'\u001b[39m\u001b[38;5;124mli.feedbackPanelERROR\u001b[39m\u001b[38;5;124m'\u001b[39m)\n\u001b[0;32m      2\u001b[0m testerror\n",
      "File \u001b[1;32md:\\py\\Lib\\site-packages\\selenium\\webdriver\\remote\\webdriver.py:742\u001b[0m, in \u001b[0;36mWebDriver.find_element\u001b[1;34m(self, by, value)\u001b[0m\n\u001b[0;32m    739\u001b[0m     by \u001b[38;5;241m=\u001b[39m By\u001b[38;5;241m.\u001b[39mCSS_SELECTOR\n\u001b[0;32m    740\u001b[0m     value \u001b[38;5;241m=\u001b[39m \u001b[38;5;124mf\u001b[39m\u001b[38;5;124m'\u001b[39m\u001b[38;5;124m[name=\u001b[39m\u001b[38;5;124m\"\u001b[39m\u001b[38;5;132;01m{\u001b[39;00mvalue\u001b[38;5;132;01m}\u001b[39;00m\u001b[38;5;124m\"\u001b[39m\u001b[38;5;124m]\u001b[39m\u001b[38;5;124m'\u001b[39m\n\u001b[1;32m--> 742\u001b[0m \u001b[38;5;28;01mreturn\u001b[39;00m \u001b[38;5;28mself\u001b[39m\u001b[38;5;241m.\u001b[39mexecute(Command\u001b[38;5;241m.\u001b[39mFIND_ELEMENT, {\u001b[38;5;124m\"\u001b[39m\u001b[38;5;124musing\u001b[39m\u001b[38;5;124m\"\u001b[39m: by, \u001b[38;5;124m\"\u001b[39m\u001b[38;5;124mvalue\u001b[39m\u001b[38;5;124m\"\u001b[39m: value})[\u001b[38;5;124m\"\u001b[39m\u001b[38;5;124mvalue\u001b[39m\u001b[38;5;124m\"\u001b[39m]\n",
      "File \u001b[1;32md:\\py\\Lib\\site-packages\\selenium\\webdriver\\remote\\webdriver.py:348\u001b[0m, in \u001b[0;36mWebDriver.execute\u001b[1;34m(self, driver_command, params)\u001b[0m\n\u001b[0;32m    346\u001b[0m response \u001b[38;5;241m=\u001b[39m \u001b[38;5;28mself\u001b[39m\u001b[38;5;241m.\u001b[39mcommand_executor\u001b[38;5;241m.\u001b[39mexecute(driver_command, params)\n\u001b[0;32m    347\u001b[0m \u001b[38;5;28;01mif\u001b[39;00m response:\n\u001b[1;32m--> 348\u001b[0m     \u001b[38;5;28mself\u001b[39m\u001b[38;5;241m.\u001b[39merror_handler\u001b[38;5;241m.\u001b[39mcheck_response(response)\n\u001b[0;32m    349\u001b[0m     response[\u001b[38;5;124m\"\u001b[39m\u001b[38;5;124mvalue\u001b[39m\u001b[38;5;124m\"\u001b[39m] \u001b[38;5;241m=\u001b[39m \u001b[38;5;28mself\u001b[39m\u001b[38;5;241m.\u001b[39m_unwrap_value(response\u001b[38;5;241m.\u001b[39mget(\u001b[38;5;124m\"\u001b[39m\u001b[38;5;124mvalue\u001b[39m\u001b[38;5;124m\"\u001b[39m, \u001b[38;5;28;01mNone\u001b[39;00m))\n\u001b[0;32m    350\u001b[0m     \u001b[38;5;28;01mreturn\u001b[39;00m response\n",
      "File \u001b[1;32md:\\py\\Lib\\site-packages\\selenium\\webdriver\\remote\\errorhandler.py:229\u001b[0m, in \u001b[0;36mErrorHandler.check_response\u001b[1;34m(self, response)\u001b[0m\n\u001b[0;32m    227\u001b[0m         alert_text \u001b[38;5;241m=\u001b[39m value[\u001b[38;5;124m\"\u001b[39m\u001b[38;5;124malert\u001b[39m\u001b[38;5;124m\"\u001b[39m]\u001b[38;5;241m.\u001b[39mget(\u001b[38;5;124m\"\u001b[39m\u001b[38;5;124mtext\u001b[39m\u001b[38;5;124m\"\u001b[39m)\n\u001b[0;32m    228\u001b[0m     \u001b[38;5;28;01mraise\u001b[39;00m exception_class(message, screen, stacktrace, alert_text)  \u001b[38;5;66;03m# type: ignore[call-arg]  # mypy is not smart enough here\u001b[39;00m\n\u001b[1;32m--> 229\u001b[0m \u001b[38;5;28;01mraise\u001b[39;00m exception_class(message, screen, stacktrace)\n",
      "\u001b[1;31mNoSuchElementException\u001b[0m: Message: no such element: Unable to locate element: {\"method\":\"css selector\",\"selector\":\"li.feedbackPanelERROR\"}\n  (Session info: chrome=120.0.6099.225); For documentation on this error, please visit: https://www.selenium.dev/documentation/webdriver/troubleshooting/errors#no-such-element-exception\nStacktrace:\n\tGetHandleVerifier [0x00007FF652064D02+56194]\n\t(No symbol) [0x00007FF651FD04B2]\n\t(No symbol) [0x00007FF651E776AA]\n\t(No symbol) [0x00007FF651EC16D0]\n\t(No symbol) [0x00007FF651EC17EC]\n\t(No symbol) [0x00007FF651F04D77]\n\t(No symbol) [0x00007FF651EE5EBF]\n\t(No symbol) [0x00007FF651F02786]\n\t(No symbol) [0x00007FF651EE5C23]\n\t(No symbol) [0x00007FF651EB4A45]\n\t(No symbol) [0x00007FF651EB5AD4]\n\tGetHandleVerifier [0x00007FF6523DD5BB+3695675]\n\tGetHandleVerifier [0x00007FF652436197+4059159]\n\tGetHandleVerifier [0x00007FF65242DF63+4025827]\n\tGetHandleVerifier [0x00007FF6520FF029+687785]\n\t(No symbol) [0x00007FF651FDB508]\n\t(No symbol) [0x00007FF651FD7564]\n\t(No symbol) [0x00007FF651FD76E9]\n\t(No symbol) [0x00007FF651FC8094]\n\tBaseThreadInitThunk [0x00007FFEAE367344+20]\n\tRtlUserThreadStart [0x00007FFEAFFA26B1+33]\n"
     ]
    }
   ],
   "source": [
    "# 檢測沒票時發生的錯誤\n",
    "testerror = driver.find_element(By.CSS_SELECTOR,'li.feedbackPanelERROR')\n",
    "testerror"
   ]
  },
  {
   "cell_type": "code",
   "execution_count": 24,
   "metadata": {},
   "outputs": [],
   "source": [
    "departure_time = driver.find_elements(By.CSS_SELECTOR , 'p.departure-time')\n",
    "for slc in departure_time[:-1]:\n",
    "    print(slc.text)"
   ]
  },
  {
   "cell_type": "code",
   "execution_count": 25,
   "metadata": {},
   "outputs": [],
   "source": [
    "confirmbtn = driver.find_element(By.CSS_SELECTOR , 'div.uk-flex.uk-flex-right.form-ctrl-group')\n",
    "confirmbtn.click()"
   ]
  },
  {
   "cell_type": "code",
   "execution_count": 82,
   "metadata": {},
   "outputs": [],
   "source": [
    "# idcard = \"A123456789\"\n",
    "# cellphone = '0912345678'\n",
    "# email = 'mm12345678@gmail.com'\n",
    "\n",
    "idslc = driver.find_element(By.CSS_SELECTOR , 'input#idNumber.uk-input')\n",
    "idslc.send_keys(info[9])\n",
    "cellphoneslc = driver.find_element(By.CSS_SELECTOR , 'input#mobilePhone.uk-input')\n",
    "cellphoneslc.send_keys(info[10])\n",
    "emailslc = driver.find_element(By.CSS_SELECTOR , \"input#email.uk-input\")\n",
    "emailslc.send_keys(info[11])"
   ]
  }
 ],
 "metadata": {
  "kernelspec": {
   "display_name": "base",
   "language": "python",
   "name": "python3"
  },
  "language_info": {
   "codemirror_mode": {
    "name": "ipython",
    "version": 3
   },
   "file_extension": ".py",
   "mimetype": "text/x-python",
   "name": "python",
   "nbconvert_exporter": "python",
   "pygments_lexer": "ipython3",
   "version": "3.11.4"
  }
 },
 "nbformat": 4,
 "nbformat_minor": 2
}
